{
 "cells": [
  {
   "cell_type": "markdown",
   "metadata": {},
   "source": [
    "# Dataextraktion & rensning"
   ]
  },
  {
   "cell_type": "code",
   "execution_count": 1,
   "metadata": {},
   "outputs": [
    {
     "data": {
      "text/plain": [
       "28"
      ]
     },
     "execution_count": 1,
     "metadata": {},
     "output_type": "execute_result"
    }
   ],
   "source": [
    "import os\n",
    "import matplotlib.pyplot as plt\n",
    "import pandas as pd\n",
    "import gc\n",
    "from external_functions import *\n",
    "#plt.style.available\n",
    "# plt.style.use(\"dark_background\")\n",
    "gc.collect()"
   ]
  },
  {
   "cell_type": "code",
   "execution_count": 18,
   "metadata": {},
   "outputs": [
    {
     "name": "stdout",
     "output_type": "stream",
     "text": [
      "(1010293, 9)\n"
     ]
    },
    {
     "data": {
      "text/html": [
       "<div>\n",
       "<style scoped>\n",
       "    .dataframe tbody tr th:only-of-type {\n",
       "        vertical-align: middle;\n",
       "    }\n",
       "\n",
       "    .dataframe tbody tr th {\n",
       "        vertical-align: top;\n",
       "    }\n",
       "\n",
       "    .dataframe thead th {\n",
       "        text-align: right;\n",
       "    }\n",
       "</style>\n",
       "<table border=\"1\" class=\"dataframe\">\n",
       "  <thead>\n",
       "    <tr style=\"text-align: right;\">\n",
       "      <th></th>\n",
       "      <th>review_id</th>\n",
       "      <th>reviewer</th>\n",
       "      <th>movie</th>\n",
       "      <th>rating</th>\n",
       "      <th>review_summary</th>\n",
       "      <th>review_date</th>\n",
       "      <th>spoiler_tag</th>\n",
       "      <th>review_detail</th>\n",
       "      <th>helpful</th>\n",
       "    </tr>\n",
       "  </thead>\n",
       "  <tbody>\n",
       "    <tr>\n",
       "      <th>0</th>\n",
       "      <td>rw5704482</td>\n",
       "      <td>raeldor-96879</td>\n",
       "      <td>After Life (2019– )</td>\n",
       "      <td>9.0</td>\n",
       "      <td>Very Strong Season 2</td>\n",
       "      <td>3 May 2020</td>\n",
       "      <td>0</td>\n",
       "      <td>I enjoyed the first season, but I must say I think seaso...</td>\n",
       "      <td>[1, 1]</td>\n",
       "    </tr>\n",
       "    <tr>\n",
       "      <th>1</th>\n",
       "      <td>rw5704483</td>\n",
       "      <td>dosleeb</td>\n",
       "      <td>The Valhalla Murders (2019– )</td>\n",
       "      <td>6.0</td>\n",
       "      <td>Icelandic detectives?</td>\n",
       "      <td>3 May 2020</td>\n",
       "      <td>0</td>\n",
       "      <td>I know Iceland is a small country and police do things a...</td>\n",
       "      <td>[2, 2]</td>\n",
       "    </tr>\n",
       "    <tr>\n",
       "      <th>2</th>\n",
       "      <td>rw5704484</td>\n",
       "      <td>brightconscious</td>\n",
       "      <td>Special OPS (2020– )</td>\n",
       "      <td>7.0</td>\n",
       "      <td>Nothing special</td>\n",
       "      <td>3 May 2020</td>\n",
       "      <td>0</td>\n",
       "      <td>Except K K , no other actor looks comfortable in acting....</td>\n",
       "      <td>[0, 0]</td>\n",
       "    </tr>\n",
       "    <tr>\n",
       "      <th>3</th>\n",
       "      <td>rw5704485</td>\n",
       "      <td>gasconyway</td>\n",
       "      <td>#BlackAF (2020– )</td>\n",
       "      <td>8.0</td>\n",
       "      <td>Good but</td>\n",
       "      <td>3 May 2020</td>\n",
       "      <td>0</td>\n",
       "      <td>I'm guessing that as a 62 year old white woman I'm not t...</td>\n",
       "      <td>[5, 9]</td>\n",
       "    </tr>\n",
       "    <tr>\n",
       "      <th>4</th>\n",
       "      <td>rw5704487</td>\n",
       "      <td>mmason-15867</td>\n",
       "      <td>The Droving (2020)</td>\n",
       "      <td>2.0</td>\n",
       "      <td>An honest review</td>\n",
       "      <td>3 May 2020</td>\n",
       "      <td>0</td>\n",
       "      <td>Here's the truth. There's not much to this movie at all....</td>\n",
       "      <td>[26, 41]</td>\n",
       "    </tr>\n",
       "  </tbody>\n",
       "</table>\n",
       "</div>"
      ],
      "text/plain": [
       "   review_id         reviewer                          movie  rating  \\\n",
       "0  rw5704482    raeldor-96879            After Life (2019– )     9.0   \n",
       "1  rw5704483          dosleeb  The Valhalla Murders (2019– )     6.0   \n",
       "2  rw5704484  brightconscious           Special OPS (2020– )     7.0   \n",
       "3  rw5704485       gasconyway              #BlackAF (2020– )     8.0   \n",
       "4  rw5704487     mmason-15867             The Droving (2020)     2.0   \n",
       "\n",
       "          review_summary review_date  spoiler_tag  \\\n",
       "0   Very Strong Season 2  3 May 2020            0   \n",
       "1  Icelandic detectives?  3 May 2020            0   \n",
       "2        Nothing special  3 May 2020            0   \n",
       "3               Good but  3 May 2020            0   \n",
       "4       An honest review  3 May 2020            0   \n",
       "\n",
       "                                                 review_detail   helpful  \n",
       "0  I enjoyed the first season, but I must say I think seaso...    [1, 1]  \n",
       "1  I know Iceland is a small country and police do things a...    [2, 2]  \n",
       "2  Except K K , no other actor looks comfortable in acting....    [0, 0]  \n",
       "3  I'm guessing that as a 62 year old white woman I'm not t...    [5, 9]  \n",
       "4  Here's the truth. There's not much to this movie at all....  [26, 41]  "
      ]
     },
     "execution_count": 18,
     "metadata": {},
     "output_type": "execute_result"
    }
   ],
   "source": [
    "pd.set_option('display.max_colwidth', 60)\n",
    "df = pd.read_json(os.path.join(\"data\",\"part-01.json\"))\n",
    "print(df.shape)\n",
    "df.head()"
   ]
  },
  {
   "cell_type": "code",
   "execution_count": 23,
   "metadata": {},
   "outputs": [
    {
     "name": "stdout",
     "output_type": "stream",
     "text": [
      "(958773, 2)\n"
     ]
    }
   ],
   "source": [
    "df = df[[\"rating\", \"review_detail\"]].dropna()\n",
    "df[\"rating\"] = df[\"rating\"].astype(int)\n",
    "print(df.shape)"
   ]
  },
  {
   "cell_type": "code",
   "execution_count": 4,
   "metadata": {},
   "outputs": [
    {
     "data": {
      "image/png": "[encoded data removed]",
      "text/plain": [
       "<Figure size 1800x600 with 1 Axes>"
      ]
     },
     "metadata": {},
     "output_type": "display_data"
    }
   ],
   "source": [
    "plt.figure(figsize=(18, 6))\n",
    "maximum = 2000\n",
    "binwidth = 25\n",
    "num_bins = int(maximum/binwidth)\n",
    "plt.hist([len(element) for element in df[\"review_detail\"] if len(element)<maximum], bins=num_bins)\n",
    "\n",
    "# Add labels and title\n",
    "plt.xlabel(\"Längd av recension\")\n",
    "plt.ylabel(\"Frekvens\")\n",
    "plt.xlim(0, maximum)\n",
    "plt.grid(alpha=0.3)\n",
    "plt.xticks(np.arange(0, 2000+1, 100))\n",
    "\n",
    "# Show the plot\n",
    "plt.show()"
   ]
  },
  {
   "cell_type": "code",
   "execution_count": 24,
   "metadata": {},
   "outputs": [
    {
     "name": "stdout",
     "output_type": "stream",
     "text": [
      "(711236, 2)\n"
     ]
    },
    {
     "data": {
      "text/html": [
       "<div>\n",
       "<style scoped>\n",
       "    .dataframe tbody tr th:only-of-type {\n",
       "        vertical-align: middle;\n",
       "    }\n",
       "\n",
       "    .dataframe tbody tr th {\n",
       "        vertical-align: top;\n",
       "    }\n",
       "\n",
       "    .dataframe thead th {\n",
       "        text-align: right;\n",
       "    }\n",
       "</style>\n",
       "<table border=\"1\" class=\"dataframe\">\n",
       "  <thead>\n",
       "    <tr style=\"text-align: right;\">\n",
       "      <th></th>\n",
       "      <th>rating</th>\n",
       "      <th>review_detail</th>\n",
       "    </tr>\n",
       "  </thead>\n",
       "  <tbody>\n",
       "    <tr>\n",
       "      <th>0</th>\n",
       "      <td>9</td>\n",
       "      <td>I enjoyed the first season, but I must say I think season 2 is even stronger. Ricky does a great job as both writer, actor and director and brings out the best in a superb supporting cast. If ther...</td>\n",
       "    </tr>\n",
       "    <tr>\n",
       "      <th>1</th>\n",
       "      <td>6</td>\n",
       "      <td>I know Iceland is a small country and police do things a bit different in Europe but c'mon... The incompetent police work robs this show of any believability.\\n1st Detective: \"hey we got two perso...</td>\n",
       "    </tr>\n",
       "    <tr>\n",
       "      <th>3</th>\n",
       "      <td>8</td>\n",
       "      <td>I'm guessing that as a 62 year old white woman I'm not the target demographic but I enjoyed this show. Good to see others perspectives and loved the wry humor. More entertaining than The Office an...</td>\n",
       "    </tr>\n",
       "    <tr>\n",
       "      <th>4</th>\n",
       "      <td>2</td>\n",
       "      <td>Here's the truth. There's not much to this movie at all. I was sucked in by the high rating and overly positive reviews that must have submitted by cast and film crew. I won't give a technical ana...</td>\n",
       "    </tr>\n",
       "    <tr>\n",
       "      <th>5</th>\n",
       "      <td>10</td>\n",
       "      <td>Having seen this film for the first time today, 70 years after its release and still having the impact that it has is outstanding. Excellent writing, directing and performances all around, particu...</td>\n",
       "    </tr>\n",
       "  </tbody>\n",
       "</table>\n",
       "</div>"
      ],
      "text/plain": [
       "   rating  \\\n",
       "0       9   \n",
       "1       6   \n",
       "3       8   \n",
       "4       2   \n",
       "5      10   \n",
       "\n",
       "                                                                                                                                                                                             review_detail  \n",
       "0  I enjoyed the first season, but I must say I think season 2 is even stronger. Ricky does a great job as both writer, actor and director and brings out the best in a superb supporting cast. If ther...  \n",
       "1  I know Iceland is a small country and police do things a bit different in Europe but c'mon... The incompetent police work robs this show of any believability.\\n1st Detective: \"hey we got two perso...  \n",
       "3  I'm guessing that as a 62 year old white woman I'm not the target demographic but I enjoyed this show. Good to see others perspectives and loved the wry humor. More entertaining than The Office an...  \n",
       "4  Here's the truth. There's not much to this movie at all. I was sucked in by the high rating and overly positive reviews that must have submitted by cast and film crew. I won't give a technical ana...  \n",
       "5  Having seen this film for the first time today, 70 years after its release and still having the impact that it has is outstanding. Excellent writing, directing and performances all around, particu...  "
      ]
     },
     "execution_count": 24,
     "metadata": {},
     "output_type": "execute_result"
    }
   ],
   "source": [
    "pd.set_option(\"display.max_colwidth\", 200)\n",
    "df = df[df['review_detail'].str.len() >= 200]\n",
    "print(df.shape)\n",
    "df.head(5)"
   ]
  },
  {
   "cell_type": "code",
   "execution_count": 13,
   "metadata": {},
   "outputs": [
    {
     "name": "stdout",
     "output_type": "stream",
     "text": [
      "['enjoy season think season strong ricky great job writer actor director bring good superb support cast thing change like hear talk people speak person pretty hard fault funny emotional comedy'\n",
      " 'know iceland small country police thing bit different europe cmon incompetent police work rob believability detective hey get person interest need talk possibly serial killer visit firstnd detective lets split'\n",
      " 'guess year old white woman target demographic enjoy good perspective love wry humor entertaining office park rec broad negative assumption white'\n",
      " 'here truth movie suck high rating overly positive review submit cast film crew will not technical analysis like ameteur movie critic sincere opinion droving annoying jump able hear opening dialogue ambient sound time difficult hear say turn caption know droving start negative balance good thing happen move forward win film beautiful nature scene appear low budget standpoint decent pace not fall asleep close occasion thing state cinematographer pace save film rightfully droving fall apart story humble opinion premise interesting story develop main character mystery movie story climax anticlimactic evolve rapidly abrupt ending leave scratch head finally bad movie droving potential good watch miss mark majorly story character development background sound difficult time hear dialogue ending total letdown make film bypass movie option'\n",
      " 'having see film time today year release have impact outstanding excellent writing directing performance particularly bette davis anne baxter respective immortal role unpredictable fill complex character relationship eve good movie see get halfway movie think jealousy resentment drive people away movie manipulation horrible people con people get want great film']\n"
     ]
    }
   ],
   "source": [
    "y = df[\"rating\"].to_numpy()\n",
    "x = df[\"review_detail\"].to_numpy()\n",
    "print(x[:5])"
   ]
  },
  {
   "cell_type": "code",
   "execution_count": 14,
   "metadata": {},
   "outputs": [
    {
     "name": "stdout",
     "output_type": "stream",
     "text": [
      "['enjoy season think season strong ricky great job writer actor director bring good superb support cast thing change like hear talk people speak person pretty hard fault funny emotional comedy'\n",
      " 'know iceland small country police thing bit different europe cmon incompetent police work rob believability detective hey get person interest need talk possibly serial killer visit firstnd detective lets split'\n",
      " 'guess year old white woman target demographic enjoy good perspective love wry humor entertaining office park rec broad negative assumption white'\n",
      " 'here truth movie suck high rating overly positive review submit cast film crew will not technical analysis like ameteur movie critic sincere opinion droving annoying jump able hear opening dialogue ambient sound time difficult hear say turn caption know droving start negative balance good thing happen move forward win film beautiful nature scene appear low budget standpoint decent pace not fall asleep close occasion thing state cinematographer pace save film rightfully droving fall apart story humble opinion premise interesting story develop main character mystery movie story climax anticlimactic evolve rapidly abrupt ending leave scratch head finally bad movie droving potential good watch miss mark majorly story character development background sound difficult time hear dialogue ending total letdown make film bypass movie option'\n",
      " 'having see film time today year release have impact outstanding excellent writing directing performance particularly bette davis anne baxter respective immortal role unpredictable fill complex character relationship eve good movie see get halfway movie think jealousy resentment drive people away movie manipulation horrible people con people get want great film']\n"
     ]
    }
   ],
   "source": [
    "for i in range(len(x)):\n",
    "    x[i] = clean_text(x[i])\n",
    "print(x[:5])"
   ]
  },
  {
   "cell_type": "code",
   "execution_count": 15,
   "metadata": {},
   "outputs": [
    {
     "name": "stdout",
     "output_type": "stream",
     "text": [
      "['enjoy season think season strong ricky great job writer actor director bring good superb support cast thing change like hear talk people speak person pretty hard fault funny emotional comedy'\n",
      " 'know iceland small country police thing bite different europe cmon incompetent police work rob believability detective hey person interest need talk possibly serial killer visit firstnd detective let split'\n",
      " 'guess year old white woman target demographic enjoy good perspective love wry humor entertain office park rec broad negative assumption white'\n",
      " 'truth movie suck high rating overly positive review submit cast film crew technical analysis like ameteur movie critic sincere opinion drove annoying jump able hear open dialogue ambient sound time difficult hear turn caption know drove start negative balance good thing happen forward win film beautiful nature scene appear low budget standpoint decent pace fall asleep close occasion thing state cinematographer pace save film rightfully drove fall apart story humble opinion premise interesting story develop main character mystery movie story climax anticlimactic evolve rapidly abrupt end leave scratch head finally bad movie drove potential good watch miss mark majorly story character development background sound difficult time hear dialogue end total letdown film bypass movie option'\n",
      " 'having film time today year release impact outstanding excellent writing direct performance particularly bette davis anne baxter respective immortal role unpredictable fill complex character relationship eve good movie halfway movie think jealousy resentment drive people away movie manipulation horrible people con people want great film']\n"
     ]
    }
   ],
   "source": [
    "for i in range(len(x)):\n",
    "    x[i] = lemmatize_text(x[i])\n",
    "print(x[:5])"
   ]
  },
  {
   "cell_type": "code",
   "execution_count": 16,
   "metadata": {},
   "outputs": [
    {
     "name": "stdout",
     "output_type": "stream",
     "text": [
      "[[9\n",
      "  'enjoy season think season strong ricky great job writer actor director bring good superb support cast thing change like hear talk people speak person pretty hard fault funny emotional comedy']\n",
      " [6\n",
      "  'know iceland small country police thing bite different europe cmon incompetent police work rob believability detective hey person interest need talk possibly serial killer visit firstnd detective let split']\n",
      " [8\n",
      "  'guess year old white woman target demographic enjoy good perspective love wry humor entertain office park rec broad negative assumption white']\n",
      " [2\n",
      "  'truth movie suck high rating overly positive review submit cast film crew technical analysis like ameteur movie critic sincere opinion drove annoying jump able hear open dialogue ambient sound time difficult hear turn caption know drove start negative balance good thing happen forward win film beautiful nature scene appear low budget standpoint decent pace fall asleep close occasion thing state cinematographer pace save film rightfully drove fall apart story humble opinion premise interesting story develop main character mystery movie story climax anticlimactic evolve rapidly abrupt end leave scratch head finally bad movie drove potential good watch miss mark majorly story character development background sound difficult time hear dialogue end total letdown film bypass movie option']\n",
      " [10\n",
      "  'having film time today year release impact outstanding excellent writing direct performance particularly bette davis anne baxter respective immortal role unpredictable fill complex character relationship eve good movie halfway movie think jealousy resentment drive people away movie manipulation horrible people con people want great film']]\n",
      "(711236, 2)\n"
     ]
    }
   ],
   "source": [
    "data = np.concatenate((y[:10].reshape(-1,1), x[:10].reshape(-1,1)), axis=1)\n",
    "print(data[:5])\n",
    "data.shape"
   ]
  },
  {
   "cell_type": "code",
   "execution_count": 42,
   "metadata": {},
   "outputs": [],
   "source": [
    "np.savetxt(\"part_01.csv\", data, delimiter=\",\", fmt=\"%s\")"
   ]
  }
 ],
 "metadata": {
  "kernelspec": {
   "display_name": "base",
   "language": "python",
   "name": "python3"
  },
  "language_info": {
   "codemirror_mode": {
    "name": "ipython",
    "version": 3
   },
   "file_extension": ".py",
   "mimetype": "text/x-python",
   "name": "python",
   "nbconvert_exporter": "python",
   "pygments_lexer": "ipython3",
   "version": "3.11.5"
  }
 },
 "nbformat": 4,
 "nbformat_minor": 2
}

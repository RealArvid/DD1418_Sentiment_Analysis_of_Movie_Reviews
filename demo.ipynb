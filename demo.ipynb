{
 "cells": [
  {
   "cell_type": "code",
   "execution_count": 7,
   "metadata": {},
   "outputs": [],
   "source": [
    "from external_functions import *\n",
    "import joblib\n",
    "import tensorflow as tf"
   ]
  },
  {
   "cell_type": "code",
   "execution_count": 2,
   "metadata": {},
   "outputs": [],
   "source": [
    "def custom_activation(x):\n",
    "    # return 5 * tf.keras.activations.sigmoid(x) + 0.5\n",
    "    return 5*tf.minimum(tf.nn.relu(x), 1) + 0.5"
   ]
  },
  {
   "cell_type": "code",
   "execution_count": 3,
   "metadata": {},
   "outputs": [],
   "source": [
    "def accuracy(y_true, y_pred):\n",
    "    \"\"\"Beräknar accuracy med outputen avrundad till närmaste heltal\"\"\"\n",
    "    return tf.reduce_mean(tf.cast(tf.equal(tf.round(y_pred), y_true), tf.float32))"
   ]
  },
  {
   "cell_type": "code",
   "execution_count": 8,
   "metadata": {},
   "outputs": [],
   "source": [
    "vectorizer = joblib.load(\"tfidf_vectorizer.joblib\")\n",
    "model = tf.keras.models.load_model(\"my_model.keras\", custom_objects={\"custom_activation\": custom_activation, \"accuracy\": accuracy})\n",
    "with open(\"indicies.txt\", \"r\") as file:\n",
    "    indicies = [int(line.strip()) for line in file]"
   ]
  },
  {
   "cell_type": "code",
   "execution_count": 41,
   "metadata": {},
   "outputs": [
    {
     "name": "stdout",
     "output_type": "stream",
     "text": [
      "1/1 [==============================] - 0s 46ms/step\n"
     ]
    },
    {
     "data": {
      "text/plain": [
       "1"
      ]
     },
     "execution_count": 41,
     "metadata": {},
     "output_type": "execute_result"
    }
   ],
   "source": [
    "review = \"I hated this movie. It was awful and I would even say it's unwatchable! I'm very disappointed and glad I'll never have to see it again\"\n",
    "make_prediction(model, vectorizer, indicies, review)"
   ]
  }
 ],
 "metadata": {
  "kernelspec": {
   "display_name": "base",
   "language": "python",
   "name": "python3"
  },
  "language_info": {
   "codemirror_mode": {
    "name": "ipython",
    "version": 3
   },
   "file_extension": ".py",
   "mimetype": "text/x-python",
   "name": "python",
   "nbconvert_exporter": "python",
   "pygments_lexer": "ipython3",
   "version": "3.11.5"
  }
 },
 "nbformat": 4,
 "nbformat_minor": 2
}
